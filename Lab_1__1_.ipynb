{
 "cells": [
  {
   "cell_type": "markdown",
   "id": "8795093b",
   "metadata": {},
   "source": [
    "# lab 1"
   ]
  },
  {
   "cell_type": "code",
   "execution_count": 4,
   "id": "ed4e0887",
   "metadata": {},
   "outputs": [
    {
     "name": "stdout",
     "output_type": "stream",
     "text": [
      "Hello,World.\n"
     ]
    }
   ],
   "source": [
    "print(\"Hello,World.\")"
   ]
  },
  {
   "cell_type": "markdown",
   "id": "9444402c",
   "metadata": {},
   "source": [
    "2. what happens if we remove the closing quotation around the text Hello, World?\n",
    "\n",
    "Answer: It will show error\n",
    "\n",
    "\n",
    "3. what happens if we remove both the quotations around the text Hello, World? How is it different from the behavior in (2)\n",
    "\n",
    "Answer: It will show error"
   ]
  },
  {
   "cell_type": "code",
   "execution_count": 1,
   "id": "237bfdce",
   "metadata": {},
   "outputs": [
    {
     "name": "stdout",
     "output_type": "stream",
     "text": [
      "*\n",
      "**\n",
      "***\n",
      "****\n",
      "*****\n"
     ]
    }
   ],
   "source": [
    "print(\"*\")\n",
    "print(\"**\")\n",
    "print(\"***\")\n",
    "print(\"****\")\n",
    "print(\"*****\")"
   ]
  },
  {
   "cell_type": "code",
   "execution_count": 8,
   "id": "d9cc81bb",
   "metadata": {},
   "outputs": [
    {
     "name": "stdout",
     "output_type": "stream",
     "text": [
      "\n",
      "*\n",
      "**\n",
      "***\n",
      "****\n",
      "*****\n"
     ]
    }
   ],
   "source": [
    "for a in range(6):\n",
    "    print(\"*\"*a)\n",
    "    "
   ]
  },
  {
   "cell_type": "code",
   "execution_count": null,
   "id": "c3e7ce70",
   "metadata": {},
   "outputs": [],
   "source": []
  }
 ],
 "metadata": {
  "kernelspec": {
   "display_name": "Python 3 (ipykernel)",
   "language": "python",
   "name": "python3"
  },
  "language_info": {
   "codemirror_mode": {
    "name": "ipython",
    "version": 3
   },
   "file_extension": ".py",
   "mimetype": "text/x-python",
   "name": "python",
   "nbconvert_exporter": "python",
   "pygments_lexer": "ipython3",
   "version": "3.10.9"
  }
 },
 "nbformat": 4,
 "nbformat_minor": 5
}
